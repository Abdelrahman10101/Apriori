{
 "cells": [
  {
   "cell_type": "markdown",
   "metadata": {
    "id": "eguHBMsEaR5u"
   },
   "source": [
    "# Libraries and Data"
   ]
  },
  {
   "cell_type": "code",
   "execution_count": null,
   "metadata": {
    "colab": {
     "base_uri": "https://localhost:8080/"
    },
    "id": "6mTN986EKrEe",
    "outputId": "75c3ac5e-f482-4e30-e7b4-8d6e7feebf7f"
   },
   "outputs": [],
   "source": []
  },
  {
   "cell_type": "code",
   "execution_count": 1,
   "metadata": {
    "id": "RJ6y7gakLYZT"
   },
   "outputs": [],
   "source": [
    "import pandas as pd\n",
    "from itertools import permutations\n",
    "from collections import OrderedDict\n",
    "from itertools import chain\n",
    "import math"
   ]
  },
  {
   "cell_type": "code",
   "execution_count": 2,
   "metadata": {
    "colab": {
     "base_uri": "https://localhost:8080/"
    },
    "id": "PA6nISigLuk3",
    "outputId": "4d2ace39-ec8b-4606-b201-2c796007c795"
   },
   "outputs": [
    {
     "name": "stdin",
     "output_type": "stream",
     "text": [
      "Enter the path: Horizontal_Format.xlsx\n"
     ]
    }
   ],
   "source": [
    "path=input(\"Enter the path:\")\n",
    "transactions = pd.read_excel(path)"
   ]
  },
  {
   "cell_type": "markdown",
   "metadata": {
    "id": "ySkyqDEwbCKj"
   },
   "source": [
    "# Data Format"
   ]
  },
  {
   "cell_type": "code",
   "execution_count": 3,
   "metadata": {
    "colab": {
     "base_uri": "https://localhost:8080/",
     "height": 206
    },
    "id": "v23Ka-QTMulA",
    "outputId": "ff251e82-38cb-46b1-e637-e53ecb5e94ce"
   },
   "outputs": [
    {
     "data": {
      "text/html": [
       "<div>\n",
       "<style scoped>\n",
       "    .dataframe tbody tr th:only-of-type {\n",
       "        vertical-align: middle;\n",
       "    }\n",
       "\n",
       "    .dataframe tbody tr th {\n",
       "        vertical-align: top;\n",
       "    }\n",
       "\n",
       "    .dataframe thead th {\n",
       "        text-align: right;\n",
       "    }\n",
       "</style>\n",
       "<table border=\"1\" class=\"dataframe\">\n",
       "  <thead>\n",
       "    <tr style=\"text-align: right;\">\n",
       "      <th></th>\n",
       "      <th>TiD</th>\n",
       "      <th>items</th>\n",
       "    </tr>\n",
       "  </thead>\n",
       "  <tbody>\n",
       "    <tr>\n",
       "      <th>0</th>\n",
       "      <td>1</td>\n",
       "      <td>M,O,N,K,E,Y</td>\n",
       "    </tr>\n",
       "    <tr>\n",
       "      <th>1</th>\n",
       "      <td>2</td>\n",
       "      <td>D,O,N,K,E,Y</td>\n",
       "    </tr>\n",
       "    <tr>\n",
       "      <th>2</th>\n",
       "      <td>3</td>\n",
       "      <td>M,A,K,E</td>\n",
       "    </tr>\n",
       "    <tr>\n",
       "      <th>3</th>\n",
       "      <td>4</td>\n",
       "      <td>M,U,C,K,Y</td>\n",
       "    </tr>\n",
       "    <tr>\n",
       "      <th>4</th>\n",
       "      <td>5</td>\n",
       "      <td>C,O,O,K,I,E</td>\n",
       "    </tr>\n",
       "  </tbody>\n",
       "</table>\n",
       "</div>"
      ],
      "text/plain": [
       "   TiD        items\n",
       "0    1  M,O,N,K,E,Y\n",
       "1    2  D,O,N,K,E,Y\n",
       "2    3      M,A,K,E\n",
       "3    4    M,U,C,K,Y\n",
       "4    5  C,O,O,K,I,E"
      ]
     },
     "execution_count": 3,
     "metadata": {},
     "output_type": "execute_result"
    }
   ],
   "source": [
    "transactions.head()"
   ]
  },
  {
   "cell_type": "code",
   "execution_count": 4,
   "metadata": {
    "id": "G25x3wTwQgrB"
   },
   "outputs": [],
   "source": [
    "temp2=list()#set of all the transactions\n",
    "data={}#horizontal table in dic format\n",
    "table={}#vertical table in dic format\n",
    "num_rows = transactions.shape[0]\n",
    "vertical={\"itemset\", \"tid_set\"}\n",
    "headers = set(map(str.lower, transactions.columns))\n",
    "\n",
    "if headers==vertical:#vertical data\n",
    "  for i in range(num_rows):\n",
    "    temp=list(str(transactions.iloc[i, 1]).split(','))\n",
    "    temp2=list(OrderedDict.fromkeys(temp2+temp))\n",
    "\n",
    "    table[transactions.iloc[i, 0]]=temp\n",
    "\n",
    "  for i in temp2:#access all transactions ids\n",
    "    data[i]=list()\n",
    "    for j in range(num_rows):#access all the table\n",
    "      if i in table[transactions.iloc[j, 0]]:\n",
    "        data[i].append(transactions.iloc[j, 0])\n",
    "\n",
    "  data = {k: data[k] for k in sorted(data)}\n",
    "  transactions = pd.DataFrame(list(data.items()), columns=['TiD', 'items'])\n",
    "  transactions['items'] = transactions['items'].apply(lambda x: ','.join(x))"
   ]
  },
  {
   "cell_type": "code",
   "execution_count": null,
   "metadata": {
    "id": "c53CLEe7on1w"
   },
   "outputs": [],
   "source": []
  },
  {
   "cell_type": "code",
   "execution_count": null,
   "metadata": {
    "id": "J3IaLzM3z0ke"
   },
   "outputs": [],
   "source": []
  },
  {
   "cell_type": "code",
   "execution_count": null,
   "metadata": {
    "id": "GmZgwH9tyk7j"
   },
   "outputs": [],
   "source": []
  },
  {
   "cell_type": "markdown",
   "metadata": {
    "id": "7I7koYkuZy9X"
   },
   "source": [
    "#  All the frequent item sets"
   ]
  },
  {
   "cell_type": "code",
   "execution_count": 5,
   "metadata": {
    "colab": {
     "base_uri": "https://localhost:8080/"
    },
    "id": "DSiAfGCebviM",
    "outputId": "9821ce8f-7123-4491-f30d-7efde27cc665"
   },
   "outputs": [
    {
     "name": "stdout",
     "output_type": "stream",
     "text": [
      "Number of rows in the DataFrame: 5\n"
     ]
    }
   ],
   "source": [
    "num_rows = transactions.shape[0]\n",
    "print(\"Number of rows in the DataFrame:\", num_rows)"
   ]
  },
  {
   "cell_type": "code",
   "execution_count": 6,
   "metadata": {
    "colab": {
     "base_uri": "https://localhost:8080/",
     "height": 206
    },
    "id": "nM68H1ro20NR",
    "outputId": "3d8ecb96-7020-44dc-c67a-51830fa955ab"
   },
   "outputs": [
    {
     "data": {
      "text/html": [
       "<div>\n",
       "<style scoped>\n",
       "    .dataframe tbody tr th:only-of-type {\n",
       "        vertical-align: middle;\n",
       "    }\n",
       "\n",
       "    .dataframe tbody tr th {\n",
       "        vertical-align: top;\n",
       "    }\n",
       "\n",
       "    .dataframe thead th {\n",
       "        text-align: right;\n",
       "    }\n",
       "</style>\n",
       "<table border=\"1\" class=\"dataframe\">\n",
       "  <thead>\n",
       "    <tr style=\"text-align: right;\">\n",
       "      <th></th>\n",
       "      <th>TiD</th>\n",
       "      <th>items</th>\n",
       "    </tr>\n",
       "  </thead>\n",
       "  <tbody>\n",
       "    <tr>\n",
       "      <th>0</th>\n",
       "      <td>1</td>\n",
       "      <td>M,O,N,K,E,Y</td>\n",
       "    </tr>\n",
       "    <tr>\n",
       "      <th>1</th>\n",
       "      <td>2</td>\n",
       "      <td>D,O,N,K,E,Y</td>\n",
       "    </tr>\n",
       "    <tr>\n",
       "      <th>2</th>\n",
       "      <td>3</td>\n",
       "      <td>M,A,K,E</td>\n",
       "    </tr>\n",
       "    <tr>\n",
       "      <th>3</th>\n",
       "      <td>4</td>\n",
       "      <td>M,U,C,K,Y</td>\n",
       "    </tr>\n",
       "    <tr>\n",
       "      <th>4</th>\n",
       "      <td>5</td>\n",
       "      <td>C,O,O,K,I,E</td>\n",
       "    </tr>\n",
       "  </tbody>\n",
       "</table>\n",
       "</div>"
      ],
      "text/plain": [
       "   TiD        items\n",
       "0    1  M,O,N,K,E,Y\n",
       "1    2  D,O,N,K,E,Y\n",
       "2    3      M,A,K,E\n",
       "3    4    M,U,C,K,Y\n",
       "4    5  C,O,O,K,I,E"
      ]
     },
     "execution_count": 6,
     "metadata": {},
     "output_type": "execute_result"
    }
   ],
   "source": [
    "transactions.head()"
   ]
  },
  {
   "cell_type": "code",
   "execution_count": 7,
   "metadata": {
    "colab": {
     "base_uri": "https://localhost:8080/"
    },
    "id": "NazpyHrbcwEl",
    "outputId": "1dd1642b-68b4-492b-cca3-410e3b29b3cb"
   },
   "outputs": [
    {
     "name": "stdout",
     "output_type": "stream",
     "text": [
      "['M', 'O', 'N', 'K', 'E', 'Y']\n",
      "['D', 'O', 'N', 'K', 'E', 'Y']\n",
      "['M', 'A', 'K', 'E']\n",
      "['M', 'U', 'C', 'K', 'Y']\n",
      "['C', 'O', 'K', 'I', 'E']\n"
     ]
    }
   ],
   "source": [
    "c1={}\n",
    "mainList=[]\n",
    "for i in range(num_rows): #access all table's content\n",
    "  tempList=transactions.iloc[i, 1].split(',')#set of item for each transaction\n",
    "  tempList2=list(OrderedDict.fromkeys(tempList))\n",
    "  tempList=set(tempList)\n",
    "  print(tempList2)\n",
    "  mainList.append(tempList)#save all transactions' items in new format\n",
    "\n",
    "  for item in tempList2:\n",
    "    if item in c1:\n",
    "      c1[item]+=1\n",
    "    else:\n",
    "      c1[item]=1\n"
   ]
  },
  {
   "cell_type": "code",
   "execution_count": 8,
   "metadata": {
    "colab": {
     "base_uri": "https://localhost:8080/"
    },
    "id": "LDqRMY_-jeYw",
    "outputId": "08893c4b-744d-4844-efee-4143cf08ab32"
   },
   "outputs": [
    {
     "name": "stdout",
     "output_type": "stream",
     "text": [
      "[{'K', 'O', 'M', 'Y', 'E', 'N'}, {'K', 'O', 'Y', 'E', 'D', 'N'}, {'K', 'M', 'A', 'E'}, {'K', 'M', 'C', 'Y', 'U'}, {'K', 'O', 'C', 'E', 'I'}]\n"
     ]
    }
   ],
   "source": [
    "print(mainList)"
   ]
  },
  {
   "cell_type": "code",
   "execution_count": 9,
   "metadata": {
    "colab": {
     "base_uri": "https://localhost:8080/"
    },
    "id": "1iSIY4gpk7zh",
    "outputId": "27b99fb6-aca6-4171-e577-724d15b3d916"
   },
   "outputs": [
    {
     "name": "stdout",
     "output_type": "stream",
     "text": [
      "{'M': 3, 'O': 3, 'N': 2, 'K': 5, 'E': 4, 'Y': 3, 'D': 1, 'A': 1, 'U': 1, 'C': 2, 'I': 1}\n"
     ]
    }
   ],
   "source": [
    "print(c1)"
   ]
  },
  {
   "cell_type": "code",
   "execution_count": 10,
   "metadata": {
    "id": "2JuOtwe7qS3Y"
   },
   "outputs": [],
   "source": [
    "def error():\n",
    "  print(\"please, enter a correct number.\")"
   ]
  },
  {
   "cell_type": "code",
   "execution_count": 11,
   "metadata": {
    "colab": {
     "base_uri": "https://localhost:8080/"
    },
    "id": "mXV07Vgt5flw",
    "outputId": "d3b08d66-c9ba-4b7c-f737-9f11162dba59"
   },
   "outputs": [
    {
     "name": "stdin",
     "output_type": "stream",
     "text": [
      "Enter 1 for percntage 0 for count: 1\n",
      "Enter min support percentage: 60\n"
     ]
    }
   ],
   "source": [
    "while(True):\n",
    " check=input(\"Enter 1 for percntage 0 for count:\")\n",
    " if check=='1':\n",
    "  minSup=float(input(\"Enter min support percentage:\"))\n",
    "  if 0<=minSup<=100:\n",
    "    sup=math.ceil((minSup/100)*num_rows)\n",
    "    break\n",
    "  else :\n",
    "    error()\n",
    " elif check=='0':\n",
    "  minSup=int(input(\"Enter min support count:\"))\n",
    "  if minSup<=num_rows:\n",
    "   sup=minSup\n",
    "   break\n",
    "  else:\n",
    "    error()\n",
    " else:\n",
    "  error()\n"
   ]
  },
  {
   "cell_type": "code",
   "execution_count": 12,
   "metadata": {
    "colab": {
     "base_uri": "https://localhost:8080/"
    },
    "id": "9ufeAKSr6w4D",
    "outputId": "4584a9c2-5b08-46ac-e08b-dbfa413e4079"
   },
   "outputs": [
    {
     "name": "stdout",
     "output_type": "stream",
     "text": [
      "3\n"
     ]
    }
   ],
   "source": [
    "\n",
    "print(sup)"
   ]
  },
  {
   "cell_type": "code",
   "execution_count": 13,
   "metadata": {
    "colab": {
     "base_uri": "https://localhost:8080/"
    },
    "id": "leWRFRzt73P8",
    "outputId": "e46bbe47-00f1-44bf-fb9a-24ae46525f8f"
   },
   "outputs": [
    {
     "name": "stdout",
     "output_type": "stream",
     "text": [
      "{'M': 3, 'O': 3, 'K': 5, 'E': 4, 'Y': 3}\n"
     ]
    }
   ],
   "source": [
    "l1={}\n",
    "for i in c1.keys():\n",
    "  if c1[i]>=sup:\n",
    "    l1[i]=c1[i]\n",
    "print(l1)"
   ]
  },
  {
   "cell_type": "code",
   "execution_count": 14,
   "metadata": {
    "colab": {
     "base_uri": "https://localhost:8080/"
    },
    "id": "1b8L8xOZ-GGx",
    "outputId": "43306c2d-6b52-40e1-844c-6538a1276c0e"
   },
   "outputs": [
    {
     "name": "stdout",
     "output_type": "stream",
     "text": [
      "('M', 'O')\n",
      "('M', 'K')\n",
      "('M', 'E')\n",
      "('M', 'Y')\n",
      "('O', 'K')\n",
      "('O', 'E')\n",
      "('O', 'Y')\n",
      "('K', 'E')\n",
      "('K', 'Y')\n",
      "('E', 'Y')\n"
     ]
    }
   ],
   "source": [
    "if len(l1)>1:\n",
    "  c2 = {}\n",
    "  l1Copy=l1.copy()\n",
    "  for i in l1.keys():\n",
    "      del l1Copy[i]\n",
    "      for j in l1Copy.keys():\n",
    "          temp = (i,j)\n",
    "          print(temp)\n",
    "          count = 0\n",
    "          for k in mainList:\n",
    "              if k.issuperset(temp):\n",
    "                  count += 1\n",
    "          c2[temp] = count"
   ]
  },
  {
   "cell_type": "code",
   "execution_count": 15,
   "metadata": {
    "colab": {
     "base_uri": "https://localhost:8080/"
    },
    "id": "hui9foNHFnKu",
    "outputId": "8f324282-3d56-49cb-c980-a35592cda0b9"
   },
   "outputs": [
    {
     "name": "stdout",
     "output_type": "stream",
     "text": [
      "{('M', 'O'): 1, ('M', 'K'): 3, ('M', 'E'): 2, ('M', 'Y'): 2, ('O', 'K'): 3, ('O', 'E'): 3, ('O', 'Y'): 2, ('K', 'E'): 4, ('K', 'Y'): 3, ('E', 'Y'): 2}\n"
     ]
    }
   ],
   "source": [
    "if len(l1)>1:\n",
    " print(c2)"
   ]
  },
  {
   "cell_type": "code",
   "execution_count": 16,
   "metadata": {
    "colab": {
     "base_uri": "https://localhost:8080/"
    },
    "id": "sKOYQ9xsKTG4",
    "outputId": "e8e1f52d-03b5-43a9-fac7-ed20437fb638"
   },
   "outputs": [
    {
     "name": "stdout",
     "output_type": "stream",
     "text": [
      "{('M', 'K'): 3, ('O', 'K'): 3, ('O', 'E'): 3, ('K', 'E'): 4, ('K', 'Y'): 3}\n"
     ]
    }
   ],
   "source": [
    "l2={}\n",
    "if len(l1)>1:\n",
    "  for i in c2.keys():\n",
    "    if c2[i]>=sup:\n",
    "      l2[i]=c2[i]\n",
    "  print(l2)"
   ]
  },
  {
   "cell_type": "code",
   "execution_count": 17,
   "metadata": {
    "id": "AdCKlSm_rq-E"
   },
   "outputs": [],
   "source": [
    "# c3 = {}\n",
    "# l2Copy=l2.copy()\n",
    "# for i in l2.keys():#tuple\n",
    "#     del l2Copy[i]\n",
    "#     for j in l2Copy.keys():#tuple\n",
    "#         if i[0]==j[0]:\n",
    "#           temp=list(i[0]+i[1]+j[1])\n",
    "#           print(temp)\n",
    "#           temp2=set(temp)\n",
    "#           c3[tuple(temp)]=0\n",
    "#           for k in mainList:\n",
    "#             if k.issuperset(temp2):\n",
    "#               c3[tuple(temp)]+=1"
   ]
  },
  {
   "cell_type": "code",
   "execution_count": 18,
   "metadata": {
    "id": "73EcCVq4GUHn"
   },
   "outputs": [],
   "source": [
    "#print(c3)"
   ]
  },
  {
   "cell_type": "code",
   "execution_count": 19,
   "metadata": {
    "id": "MlXBHccNG6TZ"
   },
   "outputs": [],
   "source": [
    "# l3={}\n",
    "# for i in c3.keys():\n",
    "#   if c3[i]>=sup:\n",
    "#     l3[i]=c3[i]\n",
    "# print(l3)"
   ]
  },
  {
   "cell_type": "code",
   "execution_count": 20,
   "metadata": {
    "id": "ueXz8Ba-ZmyU"
   },
   "outputs": [],
   "source": [
    "Cn=[] #list of dic(n)\n",
    "Ln=[] #list of dic(n)\n",
    "count=3 #start from c3\n",
    "lm=l2\n",
    "while len(lm)>1:\n",
    "  cm = {}\n",
    "  lmCopy=lm.copy()\n",
    "  for i in lm.keys():#tuple\n",
    "      del lmCopy[i]\n",
    "      for j in lmCopy.keys():#tuple\n",
    "          sum=True\n",
    "          for k in range(count-2):#Common first letters\n",
    "            sum*=  i[k]==j[k]\n",
    "          if sum:# <---------------------------------------------\n",
    "            temp=[i[z]for z in range(count-1)]\n",
    "            temp.append(j[count-2])\n",
    "            temp2=set(temp)\n",
    "            cm[tuple(temp)]=0\n",
    "            for y in mainList:\n",
    "              if y.issuperset(temp2):\n",
    "                cm[tuple(temp)]+=1\n",
    "\n",
    "\n",
    "  Cn.append(cm)\n",
    "\n",
    "  lm={}  #new value for lm\n",
    "  for i in cm.keys():\n",
    "    if cm[i]>=sup:\n",
    "      lm[i]=cm[i]\n",
    "\n",
    "  Ln.append(lm)\n",
    "  count+=1"
   ]
  },
  {
   "cell_type": "code",
   "execution_count": 21,
   "metadata": {},
   "outputs": [
    {
     "name": "stdout",
     "output_type": "stream",
     "text": [
      "C1= {'M': 3, 'O': 3, 'N': 2, 'K': 5, 'E': 4, 'Y': 3, 'D': 1, 'A': 1, 'U': 1, 'C': 2, 'I': 1}\n",
      "C2= {('M', 'O'): 1, ('M', 'K'): 3, ('M', 'E'): 2, ('M', 'Y'): 2, ('O', 'K'): 3, ('O', 'E'): 3, ('O', 'Y'): 2, ('K', 'E'): 4, ('K', 'Y'): 3, ('E', 'Y'): 2}\n",
      "C3={('O', 'K', 'E'): 3, ('K', 'E', 'Y'): 2}\n"
     ]
    }
   ],
   "source": [
    "print(\"C1=\",c1)\n",
    "print(\"C2=\",c2)\n",
    "for i in range(count-3):\n",
    "   print(\"C\",i+3,\"=\",Cn[i],sep='')"
   ]
  },
  {
   "cell_type": "code",
   "execution_count": 22,
   "metadata": {
    "colab": {
     "base_uri": "https://localhost:8080/"
    },
    "id": "F_1DKt-ss1iY",
    "outputId": "286cd7a9-5735-4aaa-8bc7-098d3ed88863"
   },
   "outputs": [
    {
     "name": "stdout",
     "output_type": "stream",
     "text": [
      "L1= {'M': 3, 'O': 3, 'K': 5, 'E': 4, 'Y': 3}\n",
      "L2= {('M', 'K'): 3, ('O', 'K'): 3, ('O', 'E'): 3, ('K', 'E'): 4, ('K', 'Y'): 3}\n",
      "L3={('O', 'K', 'E'): 3}\n"
     ]
    }
   ],
   "source": [
    "print(\"L1=\",l1)\n",
    "print(\"L2=\",l2)\n",
    "for i in range(count-3):\n",
    "   print(\"L\",i+3,\"=\",Ln[i],sep='')"
   ]
  },
  {
   "cell_type": "markdown",
   "metadata": {
    "id": "_49yWhray0l-"
   },
   "source": [
    "# Association Rules"
   ]
  },
  {
   "cell_type": "code",
   "execution_count": 23,
   "metadata": {
    "colab": {
     "base_uri": "https://localhost:8080/"
    },
    "id": "347KGm81LP_P",
    "outputId": "22766455-11e3-48b7-b948-a609200ec1ea"
   },
   "outputs": [
    {
     "data": {
      "text/plain": [
       "[{('O', 'K', 'E'): 3}]"
      ]
     },
     "execution_count": 23,
     "metadata": {},
     "output_type": "execute_result"
    }
   ],
   "source": [
    "Ln"
   ]
  },
  {
   "cell_type": "code",
   "execution_count": 24,
   "metadata": {
    "colab": {
     "base_uri": "https://localhost:8080/"
    },
    "id": "z9cNRXM-y_no",
    "outputId": "cf114ead-f13e-4ebc-b007-210ec43dc9d6"
   },
   "outputs": [
    {
     "name": "stdout",
     "output_type": "stream",
     "text": [
      "[('M', 'K'), ('K', 'M'), ('O', 'K'), ('K', 'O'), ('O', 'E'), ('E', 'O'), ('K', 'E'), ('E', 'K'), ('K', 'Y'), ('Y', 'K')]\n"
     ]
    }
   ],
   "source": [
    "all_permutations = []\n",
    "rules={}\n",
    "for i in l2:\n",
    "  temp=list(permutations(i))\n",
    "  rules[i]=temp\n",
    "  all_permutations.extend(temp)\n",
    "\n",
    "print(all_permutations)"
   ]
  },
  {
   "cell_type": "code",
   "execution_count": 25,
   "metadata": {
    "colab": {
     "base_uri": "https://localhost:8080/"
    },
    "id": "chjQb9hddLET",
    "outputId": "1249562f-0bd5-4eed-90f3-a34ba8b7446b"
   },
   "outputs": [
    {
     "name": "stdout",
     "output_type": "stream",
     "text": [
      "[('M', 'K'), ('K', 'M'), ('O', 'K'), ('K', 'O'), ('O', 'E'), ('E', 'O'), ('K', 'E'), ('E', 'K'), ('K', 'Y'), ('Y', 'K'), ('O', 'K', 'E'), ('O', 'E', 'K'), ('K', 'O', 'E'), ('K', 'E', 'O'), ('E', 'O', 'K'), ('E', 'K', 'O')]\n"
     ]
    }
   ],
   "source": [
    "for i in range(len(Ln)):\n",
    "  temp=list(Ln[i])#Ln is a full dic\n",
    "  for j in temp:\n",
    "    temp2=list(permutations(j))\n",
    "    all_permutations.extend(temp2)\n",
    "    rules[j]=temp2\n",
    "print(all_permutations)"
   ]
  },
  {
   "cell_type": "code",
   "execution_count": 26,
   "metadata": {
    "colab": {
     "base_uri": "https://localhost:8080/"
    },
    "id": "fohSVjBl0_Fw",
    "outputId": "b2f8a3e0-f364-47e8-c7ff-e3eb8ee14a32"
   },
   "outputs": [
    {
     "data": {
      "text/plain": [
       "{('M', 'K'): [('M', 'K'), ('K', 'M')],\n",
       " ('O', 'K'): [('O', 'K'), ('K', 'O')],\n",
       " ('O', 'E'): [('O', 'E'), ('E', 'O')],\n",
       " ('K', 'E'): [('K', 'E'), ('E', 'K')],\n",
       " ('K', 'Y'): [('K', 'Y'), ('Y', 'K')],\n",
       " ('O', 'K', 'E'): [('O', 'K', 'E'),\n",
       "  ('O', 'E', 'K'),\n",
       "  ('K', 'O', 'E'),\n",
       "  ('K', 'E', 'O'),\n",
       "  ('E', 'O', 'K'),\n",
       "  ('E', 'K', 'O')]}"
      ]
     },
     "execution_count": 26,
     "metadata": {},
     "output_type": "execute_result"
    }
   ],
   "source": [
    "rules"
   ]
  },
  {
   "cell_type": "code",
   "execution_count": 27,
   "metadata": {
    "colab": {
     "base_uri": "https://localhost:8080/"
    },
    "id": "rA8jwjBDBRDP",
    "outputId": "d5a9bc38-7dec-4769-e633-b3d230cfe82a"
   },
   "outputs": [
    {
     "name": "stdout",
     "output_type": "stream",
     "text": [
      "['M'] --> ['K']\n",
      "['K'] --> ['M']\n",
      "['O'] --> ['K']\n",
      "['K'] --> ['O']\n",
      "['O'] --> ['E']\n",
      "['E'] --> ['O']\n",
      "['K'] --> ['E']\n",
      "['E'] --> ['K']\n",
      "['K'] --> ['Y']\n",
      "['Y'] --> ['K']\n",
      "['O'] --> ['K', 'E']\n",
      "['O', 'K'] --> ['E']\n",
      "['O'] --> ['E', 'K']\n",
      "['O', 'E'] --> ['K']\n",
      "['K'] --> ['O', 'E']\n",
      "['K', 'O'] --> ['E']\n",
      "['K'] --> ['E', 'O']\n",
      "['K', 'E'] --> ['O']\n",
      "['E'] --> ['O', 'K']\n",
      "['E', 'O'] --> ['K']\n",
      "['E'] --> ['K', 'O']\n",
      "['E', 'K'] --> ['O']\n"
     ]
    }
   ],
   "source": [
    "total1=[]\n",
    "total2=[]\n",
    "for i in all_permutations:\n",
    " for k in range(1,len(i)):#ab-->c a-->bc\n",
    "  var1=list(i[0:k])\n",
    "  total1.append(var1)\n",
    "  var2=list(i[k:])\n",
    "  total2.append(var2)\n",
    "  print(var1,\"-->\",var2)\n"
   ]
  },
  {
   "cell_type": "markdown",
   "metadata": {
    "id": "QHJVVBjq2NeX"
   },
   "source": [
    "# Strong Rules"
   ]
  },
  {
   "cell_type": "code",
   "execution_count": 28,
   "metadata": {
    "colab": {
     "base_uri": "https://localhost:8080/"
    },
    "id": "p9eHSXL22kCV",
    "outputId": "81950631-82d2-4024-9030-f132de21203f"
   },
   "outputs": [
    {
     "name": "stdin",
     "output_type": "stream",
     "text": [
      "Enter min confidence: 80\n"
     ]
    }
   ],
   "source": [
    "while(True):\n",
    "\n",
    "  confidence=float(input(\"Enter min confidence:\"))\n",
    "  if 0<=confidence<=100:\n",
    "    confidence/=100\n",
    "    break\n",
    "  else :\n",
    "    error()"
   ]
  },
  {
   "cell_type": "code",
   "execution_count": 29,
   "metadata": {
    "colab": {
     "base_uri": "https://localhost:8080/"
    },
    "id": "mwyDQUnf7Ba3",
    "outputId": "d78cb59a-64ea-4ec7-92ec-c5006f86f0c6"
   },
   "outputs": [
    {
     "data": {
      "text/plain": [
       "0.8"
      ]
     },
     "execution_count": 29,
     "metadata": {},
     "output_type": "execute_result"
    }
   ],
   "source": [
    "confidence"
   ]
  },
  {
   "cell_type": "code",
   "execution_count": 30,
   "metadata": {
    "colab": {
     "base_uri": "https://localhost:8080/"
    },
    "id": "xBiEqbvMrsAu",
    "outputId": "694deee2-1a99-4251-84ce-99c5049a54ed"
   },
   "outputs": [
    {
     "data": {
      "text/plain": [
       "[{'E', 'K', 'M', 'N', 'O', 'Y'},\n",
       " {'D', 'E', 'K', 'N', 'O', 'Y'},\n",
       " {'A', 'E', 'K', 'M'},\n",
       " {'C', 'K', 'M', 'U', 'Y'},\n",
       " {'C', 'E', 'I', 'K', 'O'}]"
      ]
     },
     "execution_count": 30,
     "metadata": {},
     "output_type": "execute_result"
    }
   ],
   "source": [
    "mainList"
   ]
  },
  {
   "cell_type": "code",
   "execution_count": 31,
   "metadata": {
    "colab": {
     "base_uri": "https://localhost:8080/"
    },
    "id": "PmpCpe4d7S_i",
    "outputId": "50d8f4c9-2e8c-43a7-ed7f-04f0db52c70f"
   },
   "outputs": [
    {
     "name": "stdout",
     "output_type": "stream",
     "text": [
      "['M'] --> ['K'] confidence= 1.0\n",
      "['K'] --> ['M'] confidence= 0.6\n",
      "['O'] --> ['K'] confidence= 1.0\n",
      "['K'] --> ['O'] confidence= 0.6\n",
      "['O'] --> ['E'] confidence= 1.0\n",
      "['E'] --> ['O'] confidence= 0.75\n",
      "['K'] --> ['E'] confidence= 0.8\n",
      "['E'] --> ['K'] confidence= 1.0\n",
      "['K'] --> ['Y'] confidence= 0.6\n",
      "['Y'] --> ['K'] confidence= 1.0\n",
      "['O'] --> ['K', 'E'] confidence= 1.0\n",
      "['O', 'K'] --> ['E'] confidence= 1.0\n",
      "['O'] --> ['E', 'K'] confidence= 1.0\n",
      "['O', 'E'] --> ['K'] confidence= 1.0\n",
      "['K'] --> ['O', 'E'] confidence= 0.6\n",
      "['K', 'O'] --> ['E'] confidence= 1.0\n",
      "['K'] --> ['E', 'O'] confidence= 0.6\n",
      "['K', 'E'] --> ['O'] confidence= 0.75\n",
      "['E'] --> ['O', 'K'] confidence= 0.75\n",
      "['E', 'O'] --> ['K'] confidence= 1.0\n",
      "['E'] --> ['K', 'O'] confidence= 0.75\n",
      "['E', 'K'] --> ['O'] confidence= 0.75\n"
     ]
    }
   ],
   "source": [
    "strong=[]\n",
    "for i in range(len(total1)):#a-->b  n(b,a)=?\n",
    "  temp=set(total2[i]+total1[i])\n",
    "  var1=set(total1[i])\n",
    "  count=0\n",
    "  for j in range(len(mainList)):\n",
    "    if mainList[j].issuperset(temp):\n",
    "      count+=1\n",
    "  n1=count\n",
    "\n",
    "  count=0\n",
    "  for j in range(len(mainList)):\n",
    "    if mainList[j].issuperset(var1):\n",
    "      count+=1\n",
    "  n2=count\n",
    "\n",
    "  print(total1[i],\"-->\",total2[i],\"confidence=\",n1/n2)\n",
    "  if(n1/n2>=confidence):\n",
    "    strong.append([total1[i],total2[i]])\n"
   ]
  },
  {
   "cell_type": "code",
   "execution_count": 32,
   "metadata": {
    "colab": {
     "base_uri": "https://localhost:8080/"
    },
    "id": "rW-fND_mqcpo",
    "outputId": "1fe25e62-6f83-4929-8ef4-2d02ab0c25a2"
   },
   "outputs": [
    {
     "data": {
      "text/plain": [
       "[[['M'], ['K']],\n",
       " [['O'], ['K']],\n",
       " [['O'], ['E']],\n",
       " [['K'], ['E']],\n",
       " [['E'], ['K']],\n",
       " [['Y'], ['K']],\n",
       " [['O'], ['K', 'E']],\n",
       " [['O', 'K'], ['E']],\n",
       " [['O'], ['E', 'K']],\n",
       " [['O', 'E'], ['K']],\n",
       " [['K', 'O'], ['E']],\n",
       " [['E', 'O'], ['K']]]"
      ]
     },
     "execution_count": 32,
     "metadata": {},
     "output_type": "execute_result"
    }
   ],
   "source": [
    "strong"
   ]
  },
  {
   "cell_type": "markdown",
   "metadata": {
    "id": "mXvkz4Hx1N-c"
   },
   "source": [
    "# Lift"
   ]
  },
  {
   "cell_type": "code",
   "execution_count": 33,
   "metadata": {
    "id": "101HyGZbFQG_"
   },
   "outputs": [],
   "source": [
    "index=[]\n",
    "for i in range(len(total1)):#m-->k   k-->m\n",
    "  #m=total1[i]\n",
    "  #k=total2[i]\n",
    "  for j in range(i+1,len(total1)):\n",
    "    if (set(total1[i])==set(total2[j]))&(set(total2[i])==set(total1[j])):\n",
    "      index.append(j)\n",
    "\n"
   ]
  },
  {
   "cell_type": "code",
   "execution_count": 34,
   "metadata": {
    "colab": {
     "base_uri": "https://localhost:8080/"
    },
    "id": "9D8Ym-IDImyZ",
    "outputId": "5d36f453-9837-4d64-a1d1-a46fca88c39a"
   },
   "outputs": [
    {
     "data": {
      "text/plain": [
       "[1, 3, 5, 7, 9, 17, 21, 18, 20, 17, 21, 14, 16, 19, 18, 20, 19]"
      ]
     },
     "execution_count": 34,
     "metadata": {},
     "output_type": "execute_result"
    }
   ],
   "source": [
    "index"
   ]
  },
  {
   "cell_type": "code",
   "execution_count": 35,
   "metadata": {
    "colab": {
     "base_uri": "https://localhost:8080/"
    },
    "id": "vCuLnjL51TGb",
    "outputId": "6d1b4a68-f5c4-4152-c4ec-0628dced9b5a"
   },
   "outputs": [
    {
     "name": "stdout",
     "output_type": "stream",
     "text": [
      "['M'] --> ['K'] lift= 1.0 relationship:Independent\n",
      "['O'] --> ['K'] lift= 1.0 relationship:Independent\n",
      "['O'] --> ['E'] lift= 1.25 relationship:dependent, + correlated\n",
      "['K'] --> ['E'] lift= 1.0 relationship:Independent\n",
      "['K'] --> ['Y'] lift= 1.0 relationship:Independent\n",
      "['O'] --> ['K', 'E'] lift= 1.25 relationship:dependent, + correlated\n",
      "['O', 'K'] --> ['E'] lift= 1.25 relationship:dependent, + correlated\n",
      "['O'] --> ['E', 'K'] lift= 1.25 relationship:dependent, + correlated\n",
      "['O', 'E'] --> ['K'] lift= 1.0 relationship:Independent\n",
      "['K', 'O'] --> ['E'] lift= 1.25 relationship:dependent, + correlated\n"
     ]
    }
   ],
   "source": [
    "for i in range(len(total1)):#a-->b  n(b,a)=?\n",
    "  if i in index:#remove duplicates a-->b == b-->a\n",
    "    continue\n",
    "  temp=set(total2[i]+total1[i])\n",
    "  var1=set(total1[i])\n",
    "  var2=set(total2[i])\n",
    "  count=0\n",
    "  for j in range(len(mainList)):\n",
    "    if mainList[j].issuperset(temp):\n",
    "      count+=1\n",
    "  n1=count\n",
    "\n",
    "  count=0\n",
    "  for j in range(len(mainList)):\n",
    "    if mainList[j].issuperset(var1):\n",
    "      count+=1\n",
    "  n2=count\n",
    "\n",
    "  count=0\n",
    "  for j in range(len(mainList)):\n",
    "    if mainList[j].issuperset(var2):\n",
    "      count+=1\n",
    "  n3=count\n",
    "\n",
    "  lift=(num_rows*n1)/(n2*n3)\n",
    "  print(total1[i],\"-->\",total2[i],\"lift=\",lift,\"relationship:\",end=\"\")\n",
    "  if(lift>1):\n",
    "    print(\"dependent, + correlated\")\n",
    "  elif(lift<1):\n",
    "    print(\"dependent, - correlated\")\n",
    "  else:\n",
    "    print(\"Independent\")\n"
   ]
  }
 ],
 "metadata": {
  "colab": {
   "provenance": []
  },
  "kernelspec": {
   "display_name": "Python 3 (ipykernel)",
   "language": "python",
   "name": "python3"
  },
  "language_info": {
   "codemirror_mode": {
    "name": "ipython",
    "version": 3
   },
   "file_extension": ".py",
   "mimetype": "text/x-python",
   "name": "python",
   "nbconvert_exporter": "python",
   "pygments_lexer": "ipython3",
   "version": "3.11.5"
  }
 },
 "nbformat": 4,
 "nbformat_minor": 4
}
